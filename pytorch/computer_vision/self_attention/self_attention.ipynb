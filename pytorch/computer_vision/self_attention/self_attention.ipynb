{
 "cells": [
  {
   "cell_type": "markdown",
   "metadata": {},
   "source": [
    "# Vision - Self Attention for Image Classification\n",
    "\n",
    "By [Akshaj Verma](https://akshajverma.com)\n",
    "\n",
    "This notebook takes you through the implementation of multiclass image classification with CNNs using the MNIST dataset on PyTorch."
   ]
  },
  {
   "cell_type": "code",
   "execution_count": 1,
   "metadata": {},
   "outputs": [],
   "source": [
    "import numpy as np\n",
    "import pandas as pd\n",
    "\n",
    "import seaborn as sns\n",
    "from tqdm.notebook import tqdm\n",
    "import matplotlib.pyplot as plt\n",
    "\n",
    "\n",
    "import torch\n",
    "import torchvision\n",
    "import torch.nn as nn\n",
    "import torch.optim as optim\n",
    "import torch.nn.functional as F\n",
    "from torchvision import transforms, utils, datasets\n",
    "from torch.utils.data import Dataset, DataLoader, random_split, SubsetRandomSampler\n",
    "\n",
    "\n",
    "from sklearn.metrics import classification_report, confusion_matrix"
   ]
  },
  {
   "cell_type": "code",
   "execution_count": 2,
   "metadata": {},
   "outputs": [
    {
     "data": {
      "text/plain": [
       "<torch._C.Generator at 0x7f4006b78e50>"
      ]
     },
     "execution_count": 2,
     "metadata": {},
     "output_type": "execute_result"
    }
   ],
   "source": [
    "np.random.seed(0)\n",
    "torch.manual_seed(0)"
   ]
  },
  {
   "cell_type": "code",
   "execution_count": 3,
   "metadata": {},
   "outputs": [],
   "source": [
    "%matplotlib inline\n",
    "sns.set_style('darkgrid')"
   ]
  },
  {
   "cell_type": "markdown",
   "metadata": {},
   "source": [
    "## Define Paths and Set GPU"
   ]
  },
  {
   "cell_type": "markdown",
   "metadata": {},
   "source": [
    "Let's define the path for our data."
   ]
  },
  {
   "cell_type": "code",
   "execution_count": 4,
   "metadata": {},
   "outputs": [
    {
     "name": "stdout",
     "output_type": "stream",
     "text": [
      "We're using => cuda\n",
      "The data lies here => ../../../data/computer_vision/mnist\n"
     ]
    }
   ],
   "source": [
    "device = torch.device(\"cuda\" if torch.cuda.is_available() else \"cpu\")\n",
    "print(\"We're using =>\", device)\n",
    "\n",
    "root_dir = \"../../../data/computer_vision/mnist\"\n",
    "print(\"The data lies here =>\", root_dir)"
   ]
  },
  {
   "cell_type": "markdown",
   "metadata": {},
   "source": [
    "## Define transforms"
   ]
  },
  {
   "cell_type": "markdown",
   "metadata": {},
   "source": [
    "Let's define a dictionary to hold the image transformations for train/test sets. The `ToTensor` operation in PyTorch convert all tensors to lie between `(0, 1)`. \n",
    "\n",
    "> `ToTensor` converts a PIL Image or `numpy.ndarray` of shape `(H x W x C)` in the range `[0, 255]` to a `torch.FloatTensor` of shape `(C x H x W)` in the range `[0.0, 1.0]`."
   ]
  },
  {
   "cell_type": "code",
   "execution_count": 5,
   "metadata": {},
   "outputs": [],
   "source": [
    "image_transforms = {\n",
    "    \"train\": transforms.Compose([\n",
    "        transforms.ToTensor()\n",
    "    ]),\n",
    "    \"test\": transforms.Compose([\n",
    "        transforms.ToTensor()\n",
    "    ])\n",
    "}"
   ]
  },
  {
   "cell_type": "markdown",
   "metadata": {},
   "source": [
    "## Initialize Datasets"
   ]
  },
  {
   "cell_type": "markdown",
   "metadata": {},
   "source": [
    "### Train + Validation Dataset"
   ]
  },
  {
   "cell_type": "markdown",
   "metadata": {},
   "source": [
    "We 2 dataset folders with us - **Train** and **Test**. \n",
    "\n",
    "We will further divide our **Train** set as **Train + Val**. "
   ]
  },
  {
   "cell_type": "code",
   "execution_count": 6,
   "metadata": {},
   "outputs": [
    {
     "data": {
      "text/plain": [
       "Dataset MNIST\n",
       "    Number of datapoints: 60000\n",
       "    Root location: ../../../data/computer_vision/mnist\n",
       "    Split: Train\n",
       "    StandardTransform\n",
       "Transform: Compose(\n",
       "               ToTensor()\n",
       "           )"
      ]
     },
     "execution_count": 6,
     "metadata": {},
     "output_type": "execute_result"
    }
   ],
   "source": [
    "mnist_dataset = datasets.MNIST(root_dir, train=True, download=False, transform=image_transforms[\"train\"])\n",
    "\n",
    "mnist_dataset"
   ]
  },
  {
   "cell_type": "markdown",
   "metadata": {},
   "source": [
    "### Class <=> ID Mapping of Output"
   ]
  },
  {
   "cell_type": "markdown",
   "metadata": {},
   "source": [
    "The `class_to_idx` function is pre-built in PyTorch. It returns class ID's present in the dataset."
   ]
  },
  {
   "cell_type": "code",
   "execution_count": 7,
   "metadata": {},
   "outputs": [
    {
     "data": {
      "text/plain": [
       "{'0 - zero': 0,\n",
       " '1 - one': 1,\n",
       " '2 - two': 2,\n",
       " '3 - three': 3,\n",
       " '4 - four': 4,\n",
       " '5 - five': 5,\n",
       " '6 - six': 6,\n",
       " '7 - seven': 7,\n",
       " '8 - eight': 8,\n",
       " '9 - nine': 9}"
      ]
     },
     "execution_count": 7,
     "metadata": {},
     "output_type": "execute_result"
    }
   ],
   "source": [
    "mnist_dataset.class_to_idx"
   ]
  },
  {
   "cell_type": "markdown",
   "metadata": {},
   "source": [
    "We will now construct a reverse of this dictionary; a mapping of ID to class. "
   ]
  },
  {
   "cell_type": "code",
   "execution_count": 8,
   "metadata": {},
   "outputs": [
    {
     "data": {
      "text/plain": [
       "{0: '0 - zero',\n",
       " 1: '1 - one',\n",
       " 2: '2 - two',\n",
       " 3: '3 - three',\n",
       " 4: '4 - four',\n",
       " 5: '5 - five',\n",
       " 6: '6 - six',\n",
       " 7: '7 - seven',\n",
       " 8: '8 - eight',\n",
       " 9: '9 - nine'}"
      ]
     },
     "execution_count": 8,
     "metadata": {},
     "output_type": "execute_result"
    }
   ],
   "source": [
    "idx2class = {v: k for k, v in mnist_dataset.class_to_idx.items()}\n",
    "idx2class"
   ]
  },
  {
   "cell_type": "markdown",
   "metadata": {},
   "source": [
    "Let's also write a function that takes in a dataset object and returns a dictionary that contains the count of class samples. We will use this dictionary to contruct plots and observe the class distribution in our data.\n",
    "\n",
    "`get_class_distribution()` takes in an argument called `dataset_obj`. \n",
    "\n",
    "* We first initialize a `count_dict` dictionary where counts of all classes are initialised to 0. \n",
    "* Then, let's iterate through the dataset and increment the counter by 1 for every class label encountered in the loop.\n",
    "\n",
    "\n",
    "`plot_from_dict()` takes in 3 arguments: a dictionary called `dict_obj`, `plot_title`, and `**kwargs`. We pass in `**kwargs` because later on, we will constuct subplots which require passing the `ax` argument in seaborn. \n",
    "\n",
    "* First convert the dictionary to a dataframe. \n",
    "* Melt the dataframe and plot."
   ]
  },
  {
   "cell_type": "code",
   "execution_count": 9,
   "metadata": {},
   "outputs": [],
   "source": [
    "def get_class_distribution(dataset_obj):\n",
    "    count_dict = {k:0 for k,v in dataset_obj.class_to_idx.items()}\n",
    "    \n",
    "    for _, label_id in dataset_obj:\n",
    "        label = idx2class[label_id]\n",
    "        count_dict[label] += 1\n",
    "    return count_dict\n",
    "\n",
    "\n",
    "def plot_from_dict(dict_obj, plot_title, **kwargs):\n",
    "    return sns.barplot(data = pd.DataFrame.from_dict([dict_obj]).melt(), x = \"variable\", y=\"value\", hue=\"variable\", **kwargs).set_title(plot_title)"
   ]
  },
  {
   "cell_type": "code",
   "execution_count": 10,
   "metadata": {},
   "outputs": [
    {
     "data": {
      "text/plain": [
       "Text(0.5, 1.0, 'Entire Dataset (before train/val/test split)')"
      ]
     },
     "execution_count": 10,
     "metadata": {},
     "output_type": "execute_result"
    },
    {
     "data": {
      "image/png": "[encoded data removed]",
      "text/plain": [
       "<Figure size 1080x576 with 1 Axes>"
      ]
     },
     "metadata": {},
     "output_type": "display_data"
    }
   ],
   "source": [
    "plt.figure(figsize=(15,8))\n",
    "plot_from_dict(get_class_distribution(mnist_dataset), plot_title=\"Entire Dataset (before train/val/test split)\")"
   ]
  },
  {
   "cell_type": "markdown",
   "metadata": {},
   "source": [
    "### Get Train and Validation Samples"
   ]
  },
  {
   "cell_type": "markdown",
   "metadata": {},
   "source": [
    "We use `SubsetRandomSampler` to make our train and validation loaders. `SubsetRandomSampler` is used so that our each batch receives a random distribution of classes. \n",
    "\n",
    "We could've also split our dataset into 2 parts - train and val ie. make 2 `Subsets`. But this is simpler because our data loader will pretty much handle everything now.\n",
    "\n",
    "\n",
    "\n",
    "`SubsetRandomSampler(indices)` takes as input the indices of data.\n",
    "\n",
    "We first create our samplers and then we'll pass it to our dataloaders.\n",
    "\n",
    "* Create a list of indices.\n",
    "* Shuffle the indices.\n",
    "* Split the indices based on train-val percentage.\n",
    "* Create SubsetRandomSampler."
   ]
  },
  {
   "cell_type": "markdown",
   "metadata": {},
   "source": [
    "Create a list of indices from 0 to length of dataset."
   ]
  },
  {
   "cell_type": "code",
   "execution_count": 11,
   "metadata": {},
   "outputs": [],
   "source": [
    "mnist_dataset_size = len(mnist_dataset)\n",
    "mnist_dataset_indices = list(range(mnist_dataset_size))"
   ]
  },
  {
   "cell_type": "markdown",
   "metadata": {},
   "source": [
    "Shuffle the list of indices using np.shuffle."
   ]
  },
  {
   "cell_type": "code",
   "execution_count": 12,
   "metadata": {},
   "outputs": [],
   "source": [
    "np.random.shuffle(mnist_dataset_indices)"
   ]
  },
  {
   "cell_type": "markdown",
   "metadata": {},
   "source": [
    "Create the split index. We choose the split index to be 20% (0.2) of the dataset size."
   ]
  },
  {
   "cell_type": "code",
   "execution_count": 13,
   "metadata": {},
   "outputs": [],
   "source": [
    "val_split_index = int(np.floor(0.2 * mnist_dataset_size))"
   ]
  },
  {
   "cell_type": "markdown",
   "metadata": {},
   "source": [
    "Slice the lists to obtain 2 lists of indices, one for train and other for test.\n",
    "\n",
    "    0-----------val_split_index------------------------------n\n",
    "\n",
    "Train => val_split_index to n\n",
    "\n",
    "Val => 0 to val_split_index"
   ]
  },
  {
   "cell_type": "code",
   "execution_count": 14,
   "metadata": {},
   "outputs": [],
   "source": [
    "train_idx, val_idx = mnist_dataset_indices[val_split_index:], mnist_dataset_indices[:val_split_index]"
   ]
  },
  {
   "cell_type": "markdown",
   "metadata": {},
   "source": [
    "Finally, create samplers."
   ]
  },
  {
   "cell_type": "code",
   "execution_count": 15,
   "metadata": {},
   "outputs": [],
   "source": [
    "train_sampler = SubsetRandomSampler(train_idx)\n",
    "val_sampler = SubsetRandomSampler(val_idx)"
   ]
  },
  {
   "cell_type": "markdown",
   "metadata": {},
   "source": [
    "### Test"
   ]
  },
  {
   "cell_type": "markdown",
   "metadata": {},
   "source": [
    "Now that we're done with train and val data, let's load our test dataset. "
   ]
  },
  {
   "cell_type": "code",
   "execution_count": 16,
   "metadata": {},
   "outputs": [
    {
     "data": {
      "text/plain": [
       "Dataset MNIST\n",
       "    Number of datapoints: 10000\n",
       "    Root location: ../../../data/computer_vision/mnist\n",
       "    Split: Test\n",
       "    StandardTransform\n",
       "Transform: Compose(\n",
       "               ToTensor()\n",
       "           )"
      ]
     },
     "execution_count": 16,
     "metadata": {},
     "output_type": "execute_result"
    }
   ],
   "source": [
    "mnist_dataset_test = datasets.MNIST(root_dir, train=False, download=False, transform=image_transforms[\"test\"])\n",
    "\n",
    "mnist_dataset_test"
   ]
  },
  {
   "cell_type": "markdown",
   "metadata": {},
   "source": [
    "## Train, Validation, and Test Dataloader"
   ]
  },
  {
   "cell_type": "markdown",
   "metadata": {},
   "source": [
    "Now, we will pass the samplers to our dataloader. Note that `shuffle=True` cannot be used when you're using the `SubsetRandomSampler`."
   ]
  },
  {
   "cell_type": "code",
   "execution_count": 17,
   "metadata": {},
   "outputs": [],
   "source": [
    "train_loader = DataLoader(dataset=mnist_dataset, shuffle=False, batch_size=64, sampler=train_sampler)\n",
    "val_loader = DataLoader(dataset=mnist_dataset, shuffle=False, batch_size=1, sampler=val_sampler)\n",
    "test_loader = DataLoader(dataset=mnist_dataset_test, shuffle=False, batch_size=1)"
   ]
  },
  {
   "cell_type": "markdown",
   "metadata": {},
   "source": [
    "## Explore The Data"
   ]
  },
  {
   "cell_type": "markdown",
   "metadata": {},
   "source": [
    "To explore our train and val dataloaders, let's create a new function that takes in a dataloader and returns a dictionar with class counts. \n",
    "\n",
    "* Intialize a dictionary `count_dict` to all `0's`.\n",
    "* If the batch_size of the `dataloader_obj` is 1, then loop through the `dataloader_obj` and update the counter. \n",
    "* Else, if the batch_size of the `dataloader_obj` is **not** 1, then loop through the `dataloader_obj` to obtain batches. Loop through the batches to obtain individual tensors. Now, updated the counter accordingly. "
   ]
  },
  {
   "cell_type": "code",
   "execution_count": 18,
   "metadata": {},
   "outputs": [],
   "source": [
    "def get_class_distribution_loaders(dataloader_obj, dataset_obj):\n",
    "    count_dict = {k:0 for k,v in dataset_obj.class_to_idx.items()}\n",
    "    \n",
    "    if dataloader_obj.batch_size == 1:    \n",
    "        for _,label_id in dataloader_obj:\n",
    "            y_idx = label_id.item()\n",
    "            y_lbl = idx2class[y_idx]\n",
    "            count_dict[str(y_lbl)] += 1\n",
    "    else: \n",
    "        for _,label_id in dataloader_obj:\n",
    "            for idx in label_id:\n",
    "                y_idx = idx.item()\n",
    "                y_lbl = idx2class[y_idx]\n",
    "                count_dict[str(y_lbl)] += 1\n",
    "        \n",
    "            \n",
    "    return count_dict"
   ]
  },
  {
   "cell_type": "markdown",
   "metadata": {},
   "source": [
    "To plot the class distributions, we will use the `plot_from_dict()` function defined earlier with the `ax` argument."
   ]
  },
  {
   "cell_type": "code",
   "execution_count": 19,
   "metadata": {},
   "outputs": [
    {
     "data": {
      "text/plain": [
       "Text(0.5, 1.0, 'Val Set')"
      ]
     },
     "execution_count": 19,
     "metadata": {},
     "output_type": "execute_result"
    },
    {
     "data": {
      "image/png": "[encoded data removed]",
      "text/plain": [
       "<Figure size 1296x504 with 2 Axes>"
      ]
     },
     "metadata": {},
     "output_type": "display_data"
    }
   ],
   "source": [
    "fig, axes = plt.subplots(nrows=1, ncols=2, figsize=(18,7))\n",
    "\n",
    "plot_from_dict(get_class_distribution_loaders(train_loader, mnist_dataset), plot_title=\"Train Set\", ax=axes[0])\n",
    "plot_from_dict(get_class_distribution_loaders(val_loader, mnist_dataset), plot_title=\"Val Set\", ax=axes[1])"
   ]
  },
  {
   "cell_type": "markdown",
   "metadata": {},
   "source": [
    "Now that we've looked at the class distributions, Let's now look at a single image."
   ]
  },
  {
   "cell_type": "code",
   "execution_count": 20,
   "metadata": {},
   "outputs": [],
   "source": [
    "single_batch = next(iter(train_loader))"
   ]
  },
  {
   "cell_type": "markdown",
   "metadata": {},
   "source": [
    "`single_batch` is a list of 2 elements. The first element (0th index) contains the image tensors while the second element (1st index) contains the output labels. "
   ]
  },
  {
   "cell_type": "markdown",
   "metadata": {},
   "source": [
    "Here's the first element of the list which is a tensor. This tensor is of the shape `(batch, channels, height, width)`. "
   ]
  },
  {
   "cell_type": "code",
   "execution_count": 21,
   "metadata": {},
   "outputs": [
    {
     "data": {
      "text/plain": [
       "torch.Size([64, 1, 28, 28])"
      ]
     },
     "execution_count": 21,
     "metadata": {},
     "output_type": "execute_result"
    }
   ],
   "source": [
    "single_batch[0].shape"
   ]
  },
  {
   "cell_type": "markdown",
   "metadata": {},
   "source": [
    "Here are the output labels for the batch."
   ]
  },
  {
   "cell_type": "code",
   "execution_count": 22,
   "metadata": {},
   "outputs": [
    {
     "name": "stdout",
     "output_type": "stream",
     "text": [
      "Output label tensors:  tensor([9, 8, 5, 1, 1, 1, 1, 2, 0, 8, 0, 6, 7, 3, 9, 5, 0, 3, 0, 2, 1, 3, 1, 4,\n",
      "        4, 1, 6, 2, 3, 8, 4, 9, 0, 2, 7, 3, 5, 7, 0, 3, 4, 2, 5, 1, 5, 1, 4, 9,\n",
      "        5, 8, 2, 6, 5, 9, 5, 4, 6, 7, 1, 9, 6, 3, 3, 1])\n",
      "\n",
      "Output label tensor shape:  torch.Size([64])\n"
     ]
    }
   ],
   "source": [
    "print(\"Output label tensors: \", single_batch[1])\n",
    "print(\"\\nOutput label tensor shape: \", single_batch[1].shape)"
   ]
  },
  {
   "cell_type": "markdown",
   "metadata": {},
   "source": [
    "To plot the image, we'll use `plt.imshow` from matloptlib. It expects the image dimension to be `(height, width, channels)`. We'll `.permute()` our single image tensor to plot it. "
   ]
  },
  {
   "cell_type": "code",
   "execution_count": 23,
   "metadata": {},
   "outputs": [
    {
     "data": {
      "text/plain": [
       "torch.Size([1, 28, 28])"
      ]
     },
     "execution_count": 23,
     "metadata": {},
     "output_type": "execute_result"
    }
   ],
   "source": [
    "# Selecting the first image tensor from the batch. \n",
    "single_image = single_batch[0][0]\n",
    "single_image.shape"
   ]
  },
  {
   "cell_type": "code",
   "execution_count": 24,
   "metadata": {},
   "outputs": [
    {
     "data": {
      "text/plain": [
       "<matplotlib.image.AxesImage at 0x7f3ff36a5668>"
      ]
     },
     "execution_count": 24,
     "metadata": {},
     "output_type": "execute_result"
    },
    {
     "data": {
      "image/png": "[encoded data removed]",
      "text/plain": [
       "<Figure size 432x288 with 1 Axes>"
      ]
     },
     "metadata": {},
     "output_type": "display_data"
    }
   ],
   "source": [
    "plt.imshow(single_image.squeeze(), cmap='gray')"
   ]
  },
  {
   "cell_type": "markdown",
   "metadata": {},
   "source": [
    "PyTorch has made it easier for us to plot the images in a grid straight from the batch. \n",
    "\n",
    "We first extract out the image tensor from the list (returned by our dataloader) and set `nrow`. Then we use the `plt.imshow()` function to plot our grid. Remember to `.permute()` the tensor dimensions!"
   ]
  },
  {
   "cell_type": "code",
   "execution_count": 25,
   "metadata": {},
   "outputs": [],
   "source": [
    "# We do single_batch[0] because each batch is a list \n",
    "# where the 0th index is the image tensor and 1st index is the output label.\n",
    "single_batch_grid = utils.make_grid(single_batch[0], nrow=4)"
   ]
  },
  {
   "cell_type": "code",
   "execution_count": 26,
   "metadata": {},
   "outputs": [
    {
     "data": {
      "text/plain": [
       "<matplotlib.image.AxesImage at 0x7f3ffdcb39e8>"
      ]
     },
     "execution_count": 26,
     "metadata": {},
     "output_type": "execute_result"
    },
    {
     "data": {
      "image/png": "[encoded data removed]",
      "text/plain": [
       "<Figure size 720x720 with 1 Axes>"
      ]
     },
     "metadata": {},
     "output_type": "display_data"
    }
   ],
   "source": [
    "plt.figure(figsize = (10,10))\n",
    "plt.imshow(single_batch_grid.permute(1, 2, 0))"
   ]
  },
  {
   "cell_type": "markdown",
   "metadata": {},
   "source": [
    "## Model Details"
   ]
  },
  {
   "cell_type": "markdown",
   "metadata": {},
   "source": [
    "Our architecture is simple. We use 4 blocks of `Conv` layers. Each block consists of `Convolution` + `BatchNorm` + `ReLU` + `Dropout` layers.\n",
    "\n",
    "We will not use an `FC` layer at the end. We'll stick with a `Conv` layer. \n",
    "\n",
    "We will add our `self-attention` layer right before the final `Conv` layer. "
   ]
  },
  {
   "cell_type": "markdown",
   "metadata": {},
   "source": [
    "> #### Converting FC layers to CONV layers - [Source](https://cs231n.github.io/convolutional-networks/#convert)   \n",
    "\n",
    "> * It is worth noting that the only difference between `FC` and `CONV` layers is that the neurons in the `CONV` layer are connected only to a local region  in the input, and that many of the neurons in a CONV volume share parameters. However, the neurons in both layers still compute dot products, so their functional form is identical. Therefore, it turns out that it’s possible to convert between `FC` and `CONV` layers.\n",
    " \n",
    "> * For any `CONV` layer there is an `FC` layer that implements the same forward function. The weight matrix would be a large matrix that is mostly zero except for at certain blocks (due to local connectivity) where the weights in many of the blocks are equal (due to parameter sharing).\n",
    "\n",
    "> * Conversely, any `FC` layer can be converted to a `CONV` layer. For example, an `FC` layer with `K=4096` that is looking at some input volume of size `7×7×512` can be equivalently expressed as a `CONV` layer with `F=7,P=0,S=1,K=4096`.\n",
    "\n",
    "> * In other words, we are setting the filter size to be exactly the size of the input volume, and hence the output will simply be `1×1×4096` since only a single depth column “fits” across the input volume, giving identical result as the initial `FC` layer."
   ]
  },
  {
   "cell_type": "markdown",
   "metadata": {},
   "source": [
    "### Multi-class Accuracy Function"
   ]
  },
  {
   "cell_type": "markdown",
   "metadata": {},
   "source": [
    "Before we start our training, let's define a function to calculate accuracy per epoch. \n",
    "\n",
    "This function takes `y_pred` and `y_test` as input arguments. We then apply softmax to `y_pred` and extract the class which has a higher probability.\n",
    "\n",
    "After that, we compare the the predicted classes and the actual classes to calculate the accuracy."
   ]
  },
  {
   "cell_type": "code",
   "execution_count": 27,
   "metadata": {},
   "outputs": [],
   "source": [
    "def multi_acc(y_pred, y_test):\n",
    "    y_pred_softmax = torch.log_softmax(y_pred, dim = 1)\n",
    "    _, y_pred_tags = torch.max(y_pred_softmax, dim = 1)    \n",
    "    \n",
    "    correct_pred = (y_pred_tags == y_test).float()\n",
    "    acc = correct_pred.sum() / len(correct_pred)\n",
    "    \n",
    "    acc = torch.round(acc) * 100\n",
    "    \n",
    "    return acc"
   ]
  },
  {
   "cell_type": "markdown",
   "metadata": {},
   "source": [
    "### Hyperparameters and Loss Function"
   ]
  },
  {
   "cell_type": "code",
   "execution_count": 28,
   "metadata": {},
   "outputs": [],
   "source": [
    "LEARNING_RATE = 0.005\n",
    "EPOCHS = 5\n",
    "criterion = nn.CrossEntropyLoss()"
   ]
  },
  {
   "cell_type": "markdown",
   "metadata": {},
   "source": [
    "## Train CNN Baseline Model"
   ]
  },
  {
   "cell_type": "markdown",
   "metadata": {},
   "source": [
    "### [Baseline] Architecture"
   ]
  },
  {
   "cell_type": "code",
   "execution_count": 29,
   "metadata": {},
   "outputs": [],
   "source": [
    "class CNNBaselineClassifier(nn.Module):\n",
    "    def __init__(self, num_classes):\n",
    "        super(CNNBaselineClassifier, self).__init__()\n",
    "        \n",
    "        \n",
    "        self.block1 = self.conv_block(c_in=1, c_out=16, dropout=0.1, kernel_size=5, stride=1, padding=2)\n",
    "        self.block2 = self.conv_block(c_in=16, c_out=32, dropout=0.1, kernel_size=3, stride=1, padding=1)\n",
    "        self.block3 = self.conv_block(c_in=32, c_out=64, dropout=0.1, kernel_size=3, stride=1, padding=1)\n",
    "      \n",
    "        self.lastcnn = nn.Conv2d(in_channels=64, out_channels=num_classes, kernel_size=28, stride=1, padding=0)\n",
    "        \n",
    "        \n",
    "    def forward(self, x):\n",
    "        \n",
    "        batch_size = x.shape[0]\n",
    "        \n",
    "        x = self.block1(x)\n",
    "        \n",
    "        x = self.block2(x)\n",
    "    \n",
    "        x = self.block3(x)\n",
    "                \n",
    "        x = self.lastcnn(x)\n",
    "        \n",
    "        return x\n",
    "    \n",
    "    \n",
    "    def conv_block(self, c_in, c_out, dropout, **kwargs):\n",
    "        seq_block = nn.Sequential(\n",
    "            nn.Conv2d(in_channels=c_in, out_channels=c_out, **kwargs),\n",
    "            nn.BatchNorm2d(num_features=c_out),\n",
    "            nn.ReLU(),\n",
    "            nn.Dropout2d(p=dropout)\n",
    "        )\n",
    "        \n",
    "        return seq_block"
   ]
  },
  {
   "cell_type": "markdown",
   "metadata": {},
   "source": [
    "Now we'll initialize the model, and optimizer.\n",
    "Then we'll transfer the model to GPU. \n",
    "\n",
    "We're using the `nn.CrossEntropyLoss` even though it's a binary classification problem. This means, instead of returning a single output of `1/0`, we'll treat return 2 values of `0 and 1`. More specifically, probabilities of the output being either `1` or `0`.\n",
    "\n",
    "We don't have to manually apply a `log_softmax` layer after our final layer because `nn.CrossEntropyLoss` does that for us.\n",
    "\n",
    "However, we need to apply `log_softmax` for our validation and testing."
   ]
  },
  {
   "cell_type": "markdown",
   "metadata": {},
   "source": [
    "### [Baseline] Initialize Model"
   ]
  },
  {
   "cell_type": "code",
   "execution_count": 30,
   "metadata": {},
   "outputs": [
    {
     "name": "stdout",
     "output_type": "stream",
     "text": [
      "CNNBaselineClassifier(\n",
      "  (block1): Sequential(\n",
      "    (0): Conv2d(1, 16, kernel_size=(5, 5), stride=(1, 1), padding=(2, 2))\n",
      "    (1): BatchNorm2d(16, eps=1e-05, momentum=0.1, affine=True, track_running_stats=True)\n",
      "    (2): ReLU()\n",
      "    (3): Dropout2d(p=0.1, inplace=False)\n",
      "  )\n",
      "  (block2): Sequential(\n",
      "    (0): Conv2d(16, 32, kernel_size=(3, 3), stride=(1, 1), padding=(1, 1))\n",
      "    (1): BatchNorm2d(32, eps=1e-05, momentum=0.1, affine=True, track_running_stats=True)\n",
      "    (2): ReLU()\n",
      "    (3): Dropout2d(p=0.1, inplace=False)\n",
      "  )\n",
      "  (block3): Sequential(\n",
      "    (0): Conv2d(32, 64, kernel_size=(3, 3), stride=(1, 1), padding=(1, 1))\n",
      "    (1): BatchNorm2d(64, eps=1e-05, momentum=0.1, affine=True, track_running_stats=True)\n",
      "    (2): ReLU()\n",
      "    (3): Dropout2d(p=0.1, inplace=False)\n",
      "  )\n",
      "  (lastcnn): Conv2d(64, 10, kernel_size=(28, 28), stride=(1, 1))\n",
      ")\n"
     ]
    }
   ],
   "source": [
    "# Baseline model\n",
    "baseline_model = CNNBaselineClassifier(num_classes=10)\n",
    "baseline_model.to(device)\n",
    "\n",
    "print(baseline_model)"
   ]
  },
  {
   "cell_type": "markdown",
   "metadata": {},
   "source": [
    "### [Baseline] Intialize Optimizer"
   ]
  },
  {
   "cell_type": "code",
   "execution_count": 32,
   "metadata": {},
   "outputs": [],
   "source": [
    "baseline_optimizer = optim.Adam(baseline_model.parameters(), lr=LEARNING_RATE)"
   ]
  },
  {
   "cell_type": "markdown",
   "metadata": {},
   "source": [
    "We'll also define 2 dictionaries which will store the accuracy/epoch and loss/epoch for both train and validation sets."
   ]
  },
  {
   "cell_type": "code",
   "execution_count": 33,
   "metadata": {},
   "outputs": [],
   "source": [
    "accuracy_stats = {\n",
    "    'train': [],\n",
    "    \"val\": []\n",
    "}\n",
    "\n",
    "loss_stats = {\n",
    "    'train': [],\n",
    "    \"val\": []\n",
    "}"
   ]
  },
  {
   "cell_type": "markdown",
   "metadata": {},
   "source": [
    "Let's TRAIN our model!\n",
    "\n",
    "You can see we've put a `model.train()` at the before the loop. `model.train()` tells PyTorch that you're in training mode. Well, why do we need to do that? If you're using layers such as `Dropout` or `BatchNorm` which behave differently during training and evaluation (for eample; not use `dropout` during evalualtion), you need to tell PyTorch to act accordingly. While the default mode in PyTorch is the train, so, you don't explicitly have to write that. But it's good practice.\n",
    "\n",
    "Similarly, we'll call `model.eval()` when we test our model. We'll see that below. Back to training; we start a for-loop. At the top of this for-loop, we initialize our loss and accuracy per epoch to 0. After every epoch, we'll print out the loss/accuracy and reset it back to 0.\n",
    "\n",
    "Then we have another for-loop. This for-loop is used to get our data in batches from the `train_loader`.\n",
    "\n",
    "We do `optimizer.zero_grad()` before we make any predictions. Since the `.backward()` function accumulates gradients, we need to set it to 0 manually per mini-batch. From our defined model, we then obtain a prediction, get the loss(and accuracy) for that mini-batch, perform backpropagation using loss.backward() and optimizer.step().  \n",
    "\n",
    "\n",
    "Finally, we add all the mini-batch losses (and accuracies) to obtain the average loss (and accuracy) for that epoch. We add up all the losses/accuracies for each minibatch and finally divide it by the number of minibatches ie. length of `train_loader` to obtain the average loss/accuracy per epoch.\n",
    "\n",
    "The procedure we follow for training is the exact same for validation except for the fact that we wrap it up in `torch.no_grad` and not perform any backpropagation. `torch.no_grad()` tells PyTorch that we do not want to perform back-propagation, which reduces memory usage and speeds up computation."
   ]
  },
  {
   "cell_type": "markdown",
   "metadata": {},
   "source": [
    "### [Baseline] Start Training"
   ]
  },
  {
   "cell_type": "code",
   "execution_count": 35,
   "metadata": {},
   "outputs": [
    {
     "name": "stdout",
     "output_type": "stream",
     "text": [
      "Begin baseline training.\n"
     ]
    },
    {
     "data": {
      "application/vnd.jupyter.widget-view+json": {
       "model_id": "431bf6e4a0894550bf871b69b5e1e07a",
       "version_major": 2,
       "version_minor": 0
      },
      "text/plain": [
       "HBox(children=(FloatProgress(value=0.0, max=5.0), HTML(value='')))"
      ]
     },
     "metadata": {},
     "output_type": "display_data"
    },
    {
     "name": "stdout",
     "output_type": "stream",
     "text": [
      "Epoch 01: | Train Loss: 1.02661 | Val Loss: 0.11851 | Train Acc: 99.333| Val Acc: 100.000\n",
      "Epoch 02: | Train Loss: 0.07389 | Val Loss: 0.01779 | Train Acc: 100.000| Val Acc: 100.000\n",
      "Epoch 03: | Train Loss: 0.06054 | Val Loss: 0.01744 | Train Acc: 100.000| Val Acc: 100.000\n",
      "Epoch 04: | Train Loss: 0.05719 | Val Loss: 0.02338 | Train Acc: 100.000| Val Acc: 100.000\n",
      "Epoch 05: | Train Loss: 0.04911 | Val Loss: 0.00284 | Train Acc: 100.000| Val Acc: 100.000\n",
      "\n"
     ]
    }
   ],
   "source": [
    "print(\"Begin baseline training.\")\n",
    "\n",
    "for e in tqdm(range(1, EPOCHS+1)):\n",
    "    \n",
    "    # TRAINING\n",
    "    train_epoch_loss = 0\n",
    "    train_epoch_acc = 0\n",
    "    \n",
    "    baseline_model.train()\n",
    "    for X_train_batch, y_train_batch in train_loader:\n",
    "        X_train_batch, y_train_batch = X_train_batch.to(device), y_train_batch.to(device)\n",
    "        \n",
    "        baseline_optimizer.zero_grad()\n",
    "        \n",
    "        y_train_pred = baseline_model(X_train_batch).squeeze()\n",
    "                \n",
    "        train_loss = criterion(y_train_pred, y_train_batch)\n",
    "        train_acc = multi_acc(y_train_pred, y_train_batch)\n",
    "        \n",
    "        train_loss.backward()\n",
    "        baseline_optimizer.step()\n",
    "        \n",
    "        train_epoch_loss += train_loss.item()\n",
    "        train_epoch_acc += train_acc.item()\n",
    "        \n",
    "        \n",
    "    # VALIDATION\n",
    "    with torch.no_grad():\n",
    "        baseline_model.eval()\n",
    "        val_epoch_loss = 0\n",
    "        val_epoch_acc = 0\n",
    "        for X_val_batch, y_val_batch in val_loader:\n",
    "            X_val_batch, y_val_batch = X_val_batch.to(device), y_val_batch.to(device)\n",
    "            \n",
    "            y_val_pred = baseline_model(X_val_batch).squeeze()\n",
    "            \n",
    "            y_val_pred = torch.unsqueeze(y_val_pred, 0)\n",
    "                                    \n",
    "            val_loss = criterion(y_val_pred, y_val_batch)\n",
    "            val_acc = multi_acc(y_val_pred, y_val_batch)\n",
    "            \n",
    "            val_epoch_loss += train_loss.item()\n",
    "            val_epoch_acc += train_acc.item()\n",
    "\n",
    "    \n",
    "        \n",
    "    loss_stats['train'].append(train_epoch_loss/len(train_loader))\n",
    "    loss_stats['val'].append(val_epoch_loss/len(val_loader))\n",
    "    accuracy_stats['train'].append(train_epoch_acc/len(train_loader))\n",
    "    accuracy_stats['val'].append(val_epoch_acc/len(val_loader))\n",
    "                              \n",
    "    \n",
    "    print(f'Epoch {e+0:02}: | Train Loss: {train_epoch_loss/len(train_loader):.5f} | Val Loss: {val_epoch_loss/len(val_loader):.5f} | Train Acc: {train_epoch_acc/len(train_loader):.3f}| Val Acc: {val_epoch_acc/len(val_loader):.3f}')"
   ]
  },
  {
   "cell_type": "markdown",
   "metadata": {},
   "source": [
    "### [Baseline] Visualize Loss and Accuracy\n",
    "\n",
    "To plot the loss and accuracy line plots, we again create a dataframe from the `accuracy_stats` and `loss_stats` dictionaries."
   ]
  },
  {
   "cell_type": "code",
   "execution_count": 36,
   "metadata": {},
   "outputs": [
    {
     "data": {
      "text/plain": [
       "Text(0.5, 1.0, '[Baseline] Train-Val Loss/Epoch')"
      ]
     },
     "execution_count": 36,
     "metadata": {},
     "output_type": "execute_result"
    },
    {
     "data": {
      "image/png": "[encoded data removed]",
      "text/plain": [
       "<Figure size 2160x720 with 2 Axes>"
      ]
     },
     "metadata": {},
     "output_type": "display_data"
    }
   ],
   "source": [
    "train_val_acc_df = pd.DataFrame.from_dict(accuracy_stats).reset_index().melt(id_vars=['index']).rename(columns={\"index\":\"epochs\"})\n",
    "train_val_loss_df = pd.DataFrame.from_dict(loss_stats).reset_index().melt(id_vars=['index']).rename(columns={\"index\":\"epochs\"})\n",
    "\n",
    "fig, axes = plt.subplots(nrows=1, ncols=2, figsize=(30,10))\n",
    "sns.lineplot(data=train_val_acc_df, x = \"epochs\", y=\"value\", hue=\"variable\",  ax=axes[0]).set_title('[Baseline] Train-Val Accuracy/Epoch')\n",
    "sns.lineplot(data=train_val_loss_df, x = \"epochs\", y=\"value\", hue=\"variable\", ax=axes[1]).set_title('[Baseline] Train-Val Loss/Epoch')"
   ]
  },
  {
   "cell_type": "markdown",
   "metadata": {},
   "source": [
    "### [Baseline] Test Model\n",
    "\n",
    "After training is done, we need to test how our model fared. Note that we've used `model.eval()` before we run our testing code.\n",
    "To tell PyTorch that we do not want to perform back-propagation during inference, we use `torch.no_grad()`, just like we did it for the validation loop above.\n",
    "\n",
    "* We start by defining a list that will hold our predictions. Then we loop through our batches using the `test_loader`. For each batch -\n",
    "* We move our input mini-batch to GPU.\n",
    "* We make the predictions using our trained model.\n",
    "* Apply log_softmax activation to the predictions and pick the index of highest probability.\n",
    "* Move the batch to the GPU from the CPU.\n",
    "* Convert the tensor to a numpy object and append it to our list."
   ]
  },
  {
   "cell_type": "code",
   "execution_count": 37,
   "metadata": {},
   "outputs": [
    {
     "data": {
      "application/vnd.jupyter.widget-view+json": {
       "model_id": "9bbe69c0d70f4e12ace978eb1825cce0",
       "version_major": 2,
       "version_minor": 0
      },
      "text/plain": [
       "HBox(children=(FloatProgress(value=0.0, max=10000.0), HTML(value='')))"
      ]
     },
     "metadata": {},
     "output_type": "display_data"
    },
    {
     "name": "stdout",
     "output_type": "stream",
     "text": [
      "\n"
     ]
    }
   ],
   "source": [
    "y_pred_list = []\n",
    "y_true_list = []\n",
    "with torch.no_grad():\n",
    "    baseline_model.eval()\n",
    "    for x_batch, y_batch in tqdm(test_loader):\n",
    "        x_batch, y_batch = x_batch.to(device), y_batch.to(device)\n",
    "        \n",
    "        y_test_pred = baseline_model(x_batch)\n",
    "        \n",
    "        y_test_pred = torch.log_softmax(y_test_pred, dim=1)\n",
    "        _, y_pred_tag = torch.max(y_test_pred, dim = 1)\n",
    "    \n",
    "        y_pred_list.append(y_pred_tag.cpu().numpy())\n",
    "        y_true_list.append(y_batch.cpu().numpy())"
   ]
  },
  {
   "cell_type": "markdown",
   "metadata": {},
   "source": [
    "We'll flatten out the list so that we can use it as an input to `confusion_matrix` and `classification_report`."
   ]
  },
  {
   "cell_type": "code",
   "execution_count": 38,
   "metadata": {},
   "outputs": [],
   "source": [
    "y_pred_list = [i[0][0][0] for i in y_pred_list]\n",
    "y_true_list = [i[0] for i in y_true_list]"
   ]
  },
  {
   "cell_type": "markdown",
   "metadata": {},
   "source": [
    "### [Baseline] Classification Report"
   ]
  },
  {
   "cell_type": "markdown",
   "metadata": {},
   "source": [
    "Finally, we print out the classification report which contains the precision, recall, and the F1 score."
   ]
  },
  {
   "cell_type": "code",
   "execution_count": 39,
   "metadata": {},
   "outputs": [
    {
     "name": "stdout",
     "output_type": "stream",
     "text": [
      "              precision    recall  f1-score   support\n",
      "\n",
      "           0       0.97      0.99      0.98       980\n",
      "           1       0.99      1.00      0.99      1135\n",
      "           2       0.99      0.98      0.98      1032\n",
      "           3       0.99      0.99      0.99      1010\n",
      "           4       0.99      0.98      0.99       982\n",
      "           5       0.97      0.99      0.98       892\n",
      "           6       0.99      0.98      0.98       958\n",
      "           7       0.99      0.98      0.99      1028\n",
      "           8       0.98      0.98      0.98       974\n",
      "           9       0.99      0.97      0.98      1009\n",
      "\n",
      "    accuracy                           0.98     10000\n",
      "   macro avg       0.98      0.98      0.98     10000\n",
      "weighted avg       0.98      0.98      0.98     10000\n",
      "\n"
     ]
    }
   ],
   "source": [
    "print(classification_report(y_true_list, y_pred_list))"
   ]
  },
  {
   "cell_type": "code",
   "execution_count": 40,
   "metadata": {},
   "outputs": [
    {
     "name": "stdout",
     "output_type": "stream",
     "text": [
      "[[ 973    0    0    0    0    3    3    0    1    0]\n",
      " [   0 1131    0    2    0    1    0    0    1    0]\n",
      " [   6    7 1008    1    2    0    0    5    3    0]\n",
      " [   0    0    0 1000    0    4    0    3    3    0]\n",
      " [   3    0    1    0  967    0    2    0    3    6]\n",
      " [   1    0    0    3    0  885    2    0    1    0]\n",
      " [   7    2    0    1    1    9  936    0    2    0]\n",
      " [   1    4    5    2    1    1    0 1011    1    2]\n",
      " [   4    0    3    2    0    3    2    1  956    3]\n",
      " [   4    4    0    3    3    5    0    4    8  978]]\n"
     ]
    }
   ],
   "source": [
    "print(confusion_matrix(y_true_list, y_pred_list))"
   ]
  },
  {
   "cell_type": "markdown",
   "metadata": {},
   "source": [
    "### [Baseline] Confusion Matrix"
   ]
  },
  {
   "cell_type": "markdown",
   "metadata": {},
   "source": [
    "We create a dataframe from the confusion matrix and plot it as a heatmap using the seaborn library."
   ]
  },
  {
   "cell_type": "code",
   "execution_count": 41,
   "metadata": {},
   "outputs": [
    {
     "data": {
      "text/plain": [
       "<matplotlib.axes._subplots.AxesSubplot at 0x7f3ff1c9f1d0>"
      ]
     },
     "execution_count": 41,
     "metadata": {},
     "output_type": "execute_result"
    },
    {
     "data": {
      "image/png": "[encoded data removed]",
      "text/plain": [
       "<Figure size 504x360 with 2 Axes>"
      ]
     },
     "metadata": {},
     "output_type": "display_data"
    }
   ],
   "source": [
    "confusion_matrix_df = pd.DataFrame(confusion_matrix(y_true_list, y_pred_list)).rename(columns=idx2class, index=idx2class)\n",
    "\n",
    "fig, ax = plt.subplots(figsize=(7,5))         \n",
    "sns.heatmap(confusion_matrix_df, annot=True, ax=ax)"
   ]
  },
  {
   "cell_type": "markdown",
   "metadata": {},
   "source": [
    "***"
   ]
  },
  {
   "cell_type": "markdown",
   "metadata": {},
   "source": [
    "## Train CNN + Self-Attention Model"
   ]
  },
  {
   "cell_type": "markdown",
   "metadata": {},
   "source": [
    "### [Self-Attention] Architecture"
   ]
  },
  {
   "cell_type": "code",
   "execution_count": 42,
   "metadata": {},
   "outputs": [],
   "source": [
    "class SelfAttentionClassifier(nn.Module):\n",
    "    def __init__(self, num_classes):\n",
    "        super(SelfAttentionClassifier, self).__init__()\n",
    "        \n",
    "        \n",
    "        self.block1 = self.conv_block(c_in=1, c_out=16, dropout=0.1, kernel_size=5, stride=1, padding=2)\n",
    "        self.block2 = self.conv_block(c_in=16, c_out=32, dropout=0.1, kernel_size=3, stride=1, padding=1)\n",
    "        self.block3 = self.conv_block(c_in=32, c_out=64, dropout=0.1, kernel_size=3, stride=1, padding=1)\n",
    "        \n",
    "        # Self attention\n",
    "        self.cnn_f = nn.Conv2d(in_channels=64, out_channels=64//2, kernel_size=1, stride=1)\n",
    "        self.cnn_g = nn.Conv2d(in_channels=64, out_channels=64//2, kernel_size=1, stride=1)\n",
    "        self.cnn_h = nn.Conv2d(in_channels=64, out_channels=64, kernel_size=1, stride=1)\n",
    "        self.cnn_o = nn.Conv2d(in_channels=64, out_channels=64, kernel_size=1, stride=1)\n",
    "        \n",
    "        self.lastcnn = nn.Conv2d(in_channels=64, out_channels=num_classes, kernel_size=28, stride=1, padding=0)\n",
    "        \n",
    "        \n",
    "        self.maxpool = nn.MaxPool2d(kernel_size=2, stride=2)\n",
    "        \n",
    "        \n",
    "    def forward(self, x):\n",
    "        \n",
    "        batch_size = x.shape[0]\n",
    "        \n",
    "        x = self.block1(x)\n",
    "        \n",
    "        x = self.block2(x)\n",
    "    \n",
    "        x = self.block3(x)\n",
    "        \n",
    "        f = self.cnn_f(x) # B x C x H x W\n",
    "        g = self.cnn_g(x) # B x C x H x W\n",
    "        h = self.cnn_h(x) # B x C x H x W\n",
    "        \n",
    "        f = f.view(batch_size, 64//2, -1) # B x C/k x N\n",
    "        g = g.view(batch_size, 64//2, -1) # B x C/k x N\n",
    "        h = h.view(batch_size, 64, -1) # B x C x N\n",
    "        \n",
    "\n",
    "        ft = f.permute(0, 2, 1) # B x N x C/k\n",
    "        s = torch.bmm(ft, g) # B x N x N\n",
    "        b = F.softmax(s, dim = -1) # B x N x N\n",
    "        hb = torch.bmm(h, b) # B x C x N\n",
    "\n",
    "        hb_reshaped = hb.view(batch_size, 64, 28, 28) # B x C x H x W\n",
    "\n",
    "\n",
    "        o = self.cnn_o(hb_reshaped) # B x C x H x W        \n",
    "        \n",
    "        x = self.lastcnn(x)\n",
    "        \n",
    "        return x\n",
    "    \n",
    "    \n",
    "    def conv_block(self, c_in, c_out, dropout, **kwargs):\n",
    "        seq_block = nn.Sequential(\n",
    "            nn.Conv2d(in_channels=c_in, out_channels=c_out, **kwargs),\n",
    "            nn.BatchNorm2d(num_features=c_out),\n",
    "            nn.ReLU(),\n",
    "            nn.Dropout2d(p=dropout)\n",
    "        )\n",
    "        \n",
    "        return seq_block\n",
    "    \n",
    "    \n",
    "    def self_attention_module(input_img, in_channels, scale_down_channels_factor, batch_size, input_size):\n",
    "        cnn_f = nn.Conv2d(in_channels=in_channels, out_channels=in_channels//scale_down_channels_factor, kernel_size=1, stride=1)\n",
    "        cnn_g = nn.Conv2d(in_channels=in_channels, out_channels=in_channels//scale_down_channels_factor, kernel_size=1, stride=1)\n",
    "        cnn_h = nn.Conv2d(in_channels=in_channels, out_channels=in_channels, kernel_size=1, stride=1)\n",
    "        cnn_o = nn.Conv2d(in_channels=in_channels, out_channels=in_channels, kernel_size=1, stride=1)\n",
    "\n",
    "\n",
    "        f = cnn_f(input_img) # B x C x H x W\n",
    "        g = cnn_g(input_img) # B x C x H x W\n",
    "        h = cnn_h(input_img) # B x C x H x W\n",
    "\n",
    "        f = f.view(batch_size, in_channels//k, -1) # B x C/k x N\n",
    "        g = g.view(batch_size, in_channels//k, -1) # B x C/k x N\n",
    "        h = h.view(batch_size, in_channels, -1) # B x C x N\n",
    "\n",
    "        ft = f.permute(0, 2, 1) # B x N x C/k\n",
    "\n",
    "        s = torch.bmm(ft, g) # B x N x N\n",
    "\n",
    "        b = F.softmax(s, dim = -1) # B x N x N\n",
    "\n",
    "        hb = torch.bmm(h, b) # B x C x N\n",
    "\n",
    "        hb_reshaped = hb.view(batch_size, in_channels, input_size, input_size) # B x C x H x W\n",
    "\n",
    "\n",
    "        o = cnn_o(hb_reshaped) # B x C x H x W\n",
    "\n",
    "\n",
    "\n",
    "        return o"
   ]
  },
  {
   "cell_type": "markdown",
   "metadata": {},
   "source": [
    "Now we'll initialize the model, and optimizer.\n",
    "Then we'll transfer the model to GPU. \n",
    "\n",
    "We're using the `nn.CrossEntropyLoss` even though it's a binary classification problem. This means, instead of returning a single output of `1/0`, we'll treat return 2 values of `0 and 1`. More specifically, probabilities of the output being either `1` or `0`.\n",
    "\n",
    "We don't have to manually apply a `log_softmax` layer after our final layer because `nn.CrossEntropyLoss` does that for us.\n",
    "\n",
    "However, we need to apply `log_softmax` for our validation and testing."
   ]
  },
  {
   "cell_type": "markdown",
   "metadata": {},
   "source": [
    "### [Self-Attention] Initialize Model"
   ]
  },
  {
   "cell_type": "code",
   "execution_count": 43,
   "metadata": {},
   "outputs": [
    {
     "name": "stdout",
     "output_type": "stream",
     "text": [
      "SelfAttentionClassifier(\n",
      "  (block1): Sequential(\n",
      "    (0): Conv2d(1, 16, kernel_size=(5, 5), stride=(1, 1), padding=(2, 2))\n",
      "    (1): BatchNorm2d(16, eps=1e-05, momentum=0.1, affine=True, track_running_stats=True)\n",
      "    (2): ReLU()\n",
      "    (3): Dropout2d(p=0.1, inplace=False)\n",
      "  )\n",
      "  (block2): Sequential(\n",
      "    (0): Conv2d(16, 32, kernel_size=(3, 3), stride=(1, 1), padding=(1, 1))\n",
      "    (1): BatchNorm2d(32, eps=1e-05, momentum=0.1, affine=True, track_running_stats=True)\n",
      "    (2): ReLU()\n",
      "    (3): Dropout2d(p=0.1, inplace=False)\n",
      "  )\n",
      "  (block3): Sequential(\n",
      "    (0): Conv2d(32, 64, kernel_size=(3, 3), stride=(1, 1), padding=(1, 1))\n",
      "    (1): BatchNorm2d(64, eps=1e-05, momentum=0.1, affine=True, track_running_stats=True)\n",
      "    (2): ReLU()\n",
      "    (3): Dropout2d(p=0.1, inplace=False)\n",
      "  )\n",
      "  (cnn_f): Conv2d(64, 32, kernel_size=(1, 1), stride=(1, 1))\n",
      "  (cnn_g): Conv2d(64, 32, kernel_size=(1, 1), stride=(1, 1))\n",
      "  (cnn_h): Conv2d(64, 64, kernel_size=(1, 1), stride=(1, 1))\n",
      "  (cnn_o): Conv2d(64, 64, kernel_size=(1, 1), stride=(1, 1))\n",
      "  (lastcnn): Conv2d(64, 10, kernel_size=(28, 28), stride=(1, 1))\n",
      "  (maxpool): MaxPool2d(kernel_size=2, stride=2, padding=0, dilation=1, ceil_mode=False)\n",
      ")\n"
     ]
    }
   ],
   "source": [
    "# Self-Attention model\n",
    "self_attention_model = SelfAttentionClassifier(num_classes=10)\n",
    "self_attention_model.to(device)\n",
    "\n",
    "print(self_attention_model)"
   ]
  },
  {
   "cell_type": "markdown",
   "metadata": {},
   "source": [
    "### [Self-Attention] Intialize Optimizer"
   ]
  },
  {
   "cell_type": "code",
   "execution_count": 44,
   "metadata": {},
   "outputs": [],
   "source": [
    "self_attention_optimizer = optim.Adam(self_attention_model.parameters(), lr=LEARNING_RATE)"
   ]
  },
  {
   "cell_type": "markdown",
   "metadata": {},
   "source": [
    "We'll also define 2 dictionaries which will store the accuracy/epoch and loss/epoch for both train and validation sets."
   ]
  },
  {
   "cell_type": "code",
   "execution_count": 45,
   "metadata": {},
   "outputs": [],
   "source": [
    "accuracy_stats = {\n",
    "    'train': [],\n",
    "    \"val\": []\n",
    "}\n",
    "\n",
    "loss_stats = {\n",
    "    'train': [],\n",
    "    \"val\": []\n",
    "}"
   ]
  },
  {
   "cell_type": "markdown",
   "metadata": {},
   "source": [
    "Let's TRAIN our model!\n",
    "\n",
    "You can see we've put a `model.train()` at the before the loop. `model.train()` tells PyTorch that you're in training mode. Well, why do we need to do that? If you're using layers such as `Dropout` or `BatchNorm` which behave differently during training and evaluation (for eample; not use `dropout` during evalualtion), you need to tell PyTorch to act accordingly. While the default mode in PyTorch is the train, so, you don't explicitly have to write that. But it's good practice.\n",
    "\n",
    "Similarly, we'll call `model.eval()` when we test our model. We'll see that below. Back to training; we start a for-loop. At the top of this for-loop, we initialize our loss and accuracy per epoch to 0. After every epoch, we'll print out the loss/accuracy and reset it back to 0.\n",
    "\n",
    "Then we have another for-loop. This for-loop is used to get our data in batches from the `train_loader`.\n",
    "\n",
    "We do `optimizer.zero_grad()` before we make any predictions. Since the `.backward()` function accumulates gradients, we need to set it to 0 manually per mini-batch. From our defined model, we then obtain a prediction, get the loss(and accuracy) for that mini-batch, perform backpropagation using loss.backward() and optimizer.step().  \n",
    "\n",
    "\n",
    "Finally, we add all the mini-batch losses (and accuracies) to obtain the average loss (and accuracy) for that epoch. We add up all the losses/accuracies for each minibatch and finally divide it by the number of minibatches ie. length of `train_loader` to obtain the average loss/accuracy per epoch.\n",
    "\n",
    "The procedure we follow for training is the exact same for validation except for the fact that we wrap it up in `torch.no_grad` and not perform any backpropagation. `torch.no_grad()` tells PyTorch that we do not want to perform back-propagation, which reduces memory usage and speeds up computation."
   ]
  },
  {
   "cell_type": "markdown",
   "metadata": {},
   "source": [
    "### [Self-Attention] Start Training"
   ]
  },
  {
   "cell_type": "code",
   "execution_count": 46,
   "metadata": {},
   "outputs": [
    {
     "name": "stdout",
     "output_type": "stream",
     "text": [
      "Begin self attention training.\n"
     ]
    },
    {
     "data": {
      "application/vnd.jupyter.widget-view+json": {
       "model_id": "e793d3bcc18f4dc0b1b48fbf88bb9f35",
       "version_major": 2,
       "version_minor": 0
      },
      "text/plain": [
       "HBox(children=(FloatProgress(value=0.0, max=5.0), HTML(value='')))"
      ]
     },
     "metadata": {},
     "output_type": "display_data"
    },
    {
     "name": "stdout",
     "output_type": "stream",
     "text": [
      "Epoch 01: | Train Loss: 0.99185 | Val Loss: 0.19191 | Train Acc: 98.933| Val Acc: 100.000\n",
      "Epoch 02: | Train Loss: 0.07617 | Val Loss: 0.01256 | Train Acc: 100.000| Val Acc: 100.000\n",
      "Epoch 03: | Train Loss: 0.06427 | Val Loss: 0.07500 | Train Acc: 100.000| Val Acc: 100.000\n",
      "Epoch 04: | Train Loss: 0.05401 | Val Loss: 0.02855 | Train Acc: 100.000| Val Acc: 100.000\n",
      "Epoch 05: | Train Loss: 0.04917 | Val Loss: 0.00948 | Train Acc: 100.000| Val Acc: 100.000\n",
      "\n"
     ]
    }
   ],
   "source": [
    "print(\"Begin self attention training.\")\n",
    "\n",
    "for e in tqdm(range(1, EPOCHS+1)):\n",
    "    \n",
    "    # TRAINING\n",
    "    train_epoch_loss = 0\n",
    "    train_epoch_acc = 0\n",
    "    \n",
    "    self_attention_model.train()\n",
    "    for X_train_batch, y_train_batch in train_loader:\n",
    "        X_train_batch, y_train_batch = X_train_batch.to(device), y_train_batch.to(device)\n",
    "        \n",
    "        self_attention_optimizer.zero_grad()\n",
    "        \n",
    "        y_train_pred = self_attention_model(X_train_batch).squeeze()\n",
    "                \n",
    "        train_loss = criterion(y_train_pred, y_train_batch)\n",
    "        train_acc = multi_acc(y_train_pred, y_train_batch)\n",
    "        \n",
    "        train_loss.backward()\n",
    "        self_attention_optimizer.step()\n",
    "        \n",
    "        train_epoch_loss += train_loss.item()\n",
    "        train_epoch_acc += train_acc.item()\n",
    "        \n",
    "        \n",
    "    # VALIDATION\n",
    "    with torch.no_grad():\n",
    "        self_attention_model.eval()\n",
    "        val_epoch_loss = 0\n",
    "        val_epoch_acc = 0\n",
    "        for X_val_batch, y_val_batch in val_loader:\n",
    "            X_val_batch, y_val_batch = X_val_batch.to(device), y_val_batch.to(device)\n",
    "            \n",
    "            y_val_pred = self_attention_model(X_val_batch).squeeze()\n",
    "            \n",
    "            y_val_pred = torch.unsqueeze(y_val_pred, 0)\n",
    "                                    \n",
    "            val_loss = criterion(y_val_pred, y_val_batch)\n",
    "            val_acc = multi_acc(y_val_pred, y_val_batch)\n",
    "            \n",
    "            val_epoch_loss += train_loss.item()\n",
    "            val_epoch_acc += train_acc.item()\n",
    "\n",
    "    \n",
    "        \n",
    "    loss_stats['train'].append(train_epoch_loss/len(train_loader))\n",
    "    loss_stats['val'].append(val_epoch_loss/len(val_loader))\n",
    "    accuracy_stats['train'].append(train_epoch_acc/len(train_loader))\n",
    "    accuracy_stats['val'].append(val_epoch_acc/len(val_loader))\n",
    "                              \n",
    "    \n",
    "    print(f'Epoch {e+0:02}: | Train Loss: {train_epoch_loss/len(train_loader):.5f} | Val Loss: {val_epoch_loss/len(val_loader):.5f} | Train Acc: {train_epoch_acc/len(train_loader):.3f}| Val Acc: {val_epoch_acc/len(val_loader):.3f}')"
   ]
  },
  {
   "cell_type": "markdown",
   "metadata": {},
   "source": [
    "### [Self-Attention] Visualize Loss and Accuracy\n",
    "\n",
    "To plot the loss and accuracy line plots, we again create a dataframe from the `accuracy_stats` and `loss_stats` dictionaries."
   ]
  },
  {
   "cell_type": "code",
   "execution_count": 47,
   "metadata": {},
   "outputs": [
    {
     "data": {
      "text/plain": [
       "Text(0.5, 1.0, '[Baseline] Train-Val Loss/Epoch')"
      ]
     },
     "execution_count": 47,
     "metadata": {},
     "output_type": "execute_result"
    },
    {
     "data": {
      "image/png": "[encoded data removed]",
      "text/plain": [
       "<Figure size 2160x720 with 2 Axes>"
      ]
     },
     "metadata": {},
     "output_type": "display_data"
    }
   ],
   "source": [
    "train_val_acc_df = pd.DataFrame.from_dict(accuracy_stats).reset_index().melt(id_vars=['index']).rename(columns={\"index\":\"epochs\"})\n",
    "train_val_loss_df = pd.DataFrame.from_dict(loss_stats).reset_index().melt(id_vars=['index']).rename(columns={\"index\":\"epochs\"})\n",
    "\n",
    "fig, axes = plt.subplots(nrows=1, ncols=2, figsize=(30,10))\n",
    "sns.lineplot(data=train_val_acc_df, x = \"epochs\", y=\"value\", hue=\"variable\",  ax=axes[0]).set_title('[Baseline] Train-Val Accuracy/Epoch')\n",
    "sns.lineplot(data=train_val_loss_df, x = \"epochs\", y=\"value\", hue=\"variable\", ax=axes[1]).set_title('[Baseline] Train-Val Loss/Epoch')"
   ]
  },
  {
   "cell_type": "markdown",
   "metadata": {},
   "source": [
    "### [Self-Attention] Test Model\n",
    "\n",
    "After training is done, we need to test how our model fared. Note that we've used `model.eval()` before we run our testing code.\n",
    "To tell PyTorch that we do not want to perform back-propagation during inference, we use `torch.no_grad()`, just like we did it for the validation loop above.\n",
    "\n",
    "* We start by defining a list that will hold our predictions. Then we loop through our batches using the `test_loader`. For each batch -\n",
    "* We move our input mini-batch to GPU.\n",
    "* We make the predictions using our trained model.\n",
    "* Apply log_softmax activation to the predictions and pick the index of highest probability.\n",
    "* Move the batch to the GPU from the CPU.\n",
    "* Convert the tensor to a numpy object and append it to our list."
   ]
  },
  {
   "cell_type": "code",
   "execution_count": 48,
   "metadata": {},
   "outputs": [
    {
     "data": {
      "application/vnd.jupyter.widget-view+json": {
       "model_id": "daed92b6cd084fbb881baf8d1e543a05",
       "version_major": 2,
       "version_minor": 0
      },
      "text/plain": [
       "HBox(children=(FloatProgress(value=0.0, max=10000.0), HTML(value='')))"
      ]
     },
     "metadata": {},
     "output_type": "display_data"
    },
    {
     "name": "stdout",
     "output_type": "stream",
     "text": [
      "\n"
     ]
    }
   ],
   "source": [
    "y_pred_list = []\n",
    "y_true_list = []\n",
    "with torch.no_grad():\n",
    "    self_attention_model.eval()\n",
    "    for x_batch, y_batch in tqdm(test_loader):\n",
    "        x_batch, y_batch = x_batch.to(device), y_batch.to(device)\n",
    "        \n",
    "        y_test_pred = self_attention_model(x_batch)\n",
    "        \n",
    "        y_test_pred = torch.log_softmax(y_test_pred, dim=1)\n",
    "        _, y_pred_tag = torch.max(y_test_pred, dim = 1)\n",
    "    \n",
    "        y_pred_list.append(y_pred_tag.cpu().numpy())\n",
    "        y_true_list.append(y_batch.cpu().numpy())"
   ]
  },
  {
   "cell_type": "markdown",
   "metadata": {},
   "source": [
    "We'll flatten out the list so that we can use it as an input to `confusion_matrix` and `classification_report`."
   ]
  },
  {
   "cell_type": "code",
   "execution_count": 49,
   "metadata": {},
   "outputs": [],
   "source": [
    "y_pred_list = [i[0][0][0] for i in y_pred_list]\n",
    "y_true_list = [i[0] for i in y_true_list]"
   ]
  },
  {
   "cell_type": "markdown",
   "metadata": {},
   "source": [
    "### [Self-Attention] Classification Report"
   ]
  },
  {
   "cell_type": "markdown",
   "metadata": {},
   "source": [
    "Finally, we print out the classification report which contains the precision, recall, and the F1 score."
   ]
  },
  {
   "cell_type": "code",
   "execution_count": 50,
   "metadata": {},
   "outputs": [
    {
     "name": "stdout",
     "output_type": "stream",
     "text": [
      "              precision    recall  f1-score   support\n",
      "\n",
      "           0       0.98      0.99      0.99       980\n",
      "           1       0.98      1.00      0.99      1135\n",
      "           2       0.99      0.97      0.98      1032\n",
      "           3       0.99      0.99      0.99      1010\n",
      "           4       0.99      0.99      0.99       982\n",
      "           5       0.99      0.99      0.99       892\n",
      "           6       0.99      0.98      0.98       958\n",
      "           7       0.99      0.98      0.98      1028\n",
      "           8       0.97      0.98      0.98       974\n",
      "           9       0.99      0.97      0.98      1009\n",
      "\n",
      "    accuracy                           0.99     10000\n",
      "   macro avg       0.99      0.99      0.99     10000\n",
      "weighted avg       0.99      0.99      0.99     10000\n",
      "\n"
     ]
    }
   ],
   "source": [
    "print(classification_report(y_true_list, y_pred_list))"
   ]
  },
  {
   "cell_type": "code",
   "execution_count": 51,
   "metadata": {},
   "outputs": [
    {
     "name": "stdout",
     "output_type": "stream",
     "text": [
      "[[ 974    0    2    0    1    0    1    0    1    1]\n",
      " [   0 1132    1    0    0    0    1    0    1    0]\n",
      " [   2    7 1005    0    1    0    1    7    9    0]\n",
      " [   0    0    1 1003    0    2    0    0    4    0]\n",
      " [   0    3    0    0  969    0    3    0    1    6]\n",
      " [   1    0    0    3    0  881    4    0    2    1]\n",
      " [   8    2    0    1    1    5  940    0    1    0]\n",
      " [   1    7    8    0    0    0    0 1009    2    1]\n",
      " [   4    0    2    0    1    1    2    2  959    3]\n",
      " [   1    2    0    3    7    5    0    6    4  981]]\n"
     ]
    }
   ],
   "source": [
    "print(confusion_matrix(y_true_list, y_pred_list))"
   ]
  },
  {
   "cell_type": "markdown",
   "metadata": {},
   "source": [
    "### [Self-Attention] Confusion Matrix"
   ]
  },
  {
   "cell_type": "markdown",
   "metadata": {},
   "source": [
    "We create a dataframe from the confusion matrix and plot it as a heatmap using the seaborn library."
   ]
  },
  {
   "cell_type": "code",
   "execution_count": 52,
   "metadata": {},
   "outputs": [
    {
     "data": {
      "text/plain": [
       "<matplotlib.axes._subplots.AxesSubplot at 0x7f3fb6baed30>"
      ]
     },
     "execution_count": 52,
     "metadata": {},
     "output_type": "execute_result"
    },
    {
     "data": {
      "image/png": "[encoded data removed]",
      "text/plain": [
       "<Figure size 504x360 with 2 Axes>"
      ]
     },
     "metadata": {},
     "output_type": "display_data"
    }
   ],
   "source": [
    "confusion_matrix_df = pd.DataFrame(confusion_matrix(y_true_list, y_pred_list)).rename(columns=idx2class, index=idx2class)\n",
    "\n",
    "fig, ax = plt.subplots(figsize=(7,5))         \n",
    "sns.heatmap(confusion_matrix_df, annot=True, ax=ax)"
   ]
  }
 ],
 "metadata": {
  "kernelspec": {
   "display_name": "Python 3",
   "language": "python",
   "name": "python3"
  },
  "language_info": {
   "codemirror_mode": {
    "name": "ipython",
    "version": 3
   },
   "file_extension": ".py",
   "mimetype": "text/x-python",
   "name": "python",
   "nbconvert_exporter": "python",
   "pygments_lexer": "ipython3",
   "version": "3.6.10"
  }
 },
 "nbformat": 4,
 "nbformat_minor": 4
}
