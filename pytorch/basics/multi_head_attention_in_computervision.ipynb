{
 "cells": [
  {
   "cell_type": "markdown",
   "metadata": {},
   "source": [
    "# Basics | Attention in Computer Vision\n",
    "\n",
    "By [Akshaj Verma](https://akshajverma.com)\n",
    "\n",
    "This notebook takes you through the different types of attention methods wrt computer vision using PyTorch."
   ]
  },
  {
   "cell_type": "code",
   "execution_count": 1,
   "metadata": {},
   "outputs": [],
   "source": [
    "import numpy as np\n",
    "\n",
    "import torch\n",
    "import torchvision\n",
    "import torch.nn as nn\n",
    "import torch.optim as optim\n",
    "import torch.nn.functional as F\n",
    "from torchvision import transforms, utils"
   ]
  },
  {
   "cell_type": "markdown",
   "metadata": {},
   "source": [
    "## Self Attention for Images"
   ]
  },
  {
   "cell_type": "markdown",
   "metadata": {},
   "source": [
    "Let's define a tensor that we obtain after passing an image throught multiple conv layers. \n",
    "\n",
    "Let the size of this tensor be `(4, 5, 5)`. This means that our image (latent representation after mulitple conv operations) is of size `(5 x 5)` and has `4` channels."
   ]
  },
  {
   "cell_type": "markdown",
   "metadata": {},
   "source": [
    "![Self attention in SAGAN paper](../../assets/sagan_att.png)"
   ]
  },
  {
   "cell_type": "markdown",
   "metadata": {},
   "source": [
    "[Reference](https://arxiv.org/pdf/1905.08008v1.pdf)"
   ]
  },
  {
   "cell_type": "code",
   "execution_count": 2,
   "metadata": {},
   "outputs": [],
   "source": [
    "img = [float(i) for i in range(100)]\n",
    "img = torch.tensor(img)"
   ]
  },
  {
   "cell_type": "code",
   "execution_count": 3,
   "metadata": {},
   "outputs": [
    {
     "data": {
      "text/plain": [
       "tensor([[[ 0.,  1.,  2.,  3.,  4.],\n",
       "         [ 5.,  6.,  7.,  8.,  9.],\n",
       "         [10., 11., 12., 13., 14.],\n",
       "         [15., 16., 17., 18., 19.],\n",
       "         [20., 21., 22., 23., 24.]],\n",
       "\n",
       "        [[25., 26., 27., 28., 29.],\n",
       "         [30., 31., 32., 33., 34.],\n",
       "         [35., 36., 37., 38., 39.],\n",
       "         [40., 41., 42., 43., 44.],\n",
       "         [45., 46., 47., 48., 49.]],\n",
       "\n",
       "        [[50., 51., 52., 53., 54.],\n",
       "         [55., 56., 57., 58., 59.],\n",
       "         [60., 61., 62., 63., 64.],\n",
       "         [65., 66., 67., 68., 69.],\n",
       "         [70., 71., 72., 73., 74.]],\n",
       "\n",
       "        [[75., 76., 77., 78., 79.],\n",
       "         [80., 81., 82., 83., 84.],\n",
       "         [85., 86., 87., 88., 89.],\n",
       "         [90., 91., 92., 93., 94.],\n",
       "         [95., 96., 97., 98., 99.]]])"
      ]
     },
     "execution_count": 3,
     "metadata": {},
     "output_type": "execute_result"
    }
   ],
   "source": [
    "img = img.view([4, 5, 5])\n",
    "img"
   ]
  },
  {
   "cell_type": "markdown",
   "metadata": {},
   "source": [
    "We `unsqueeze(0)` to add a dimension of 1 at index 0. This dimension corresponds to the batch size. \n",
    "We do it because `nn.Conv2d()` requires it."
   ]
  },
  {
   "cell_type": "code",
   "execution_count": 4,
   "metadata": {},
   "outputs": [
    {
     "data": {
      "text/plain": [
       "torch.Size([1, 4, 5, 5])"
      ]
     },
     "execution_count": 4,
     "metadata": {},
     "output_type": "execute_result"
    }
   ],
   "source": [
    "input_img = img.unsqueeze(0)\n",
    "input_img.shape"
   ]
  },
  {
   "cell_type": "code",
   "execution_count": 15,
   "metadata": {},
   "outputs": [],
   "source": [
    "def self_attention_module(input_img, in_channels, k, batch_size, input_size):\n",
    "    cnn_f = nn.Conv2d(in_channels=in_channels, out_channels=in_channels//k, kernel_size=1, stride=1)\n",
    "    cnn_g = nn.Conv2d(in_channels=in_channels, out_channels=in_channels//k, kernel_size=1, stride=1)\n",
    "    cnn_h = nn.Conv2d(in_channels=in_channels, out_channels=in_channels, kernel_size=1, stride=1)\n",
    "#     cnn_o = nn.Conv2d(in_channels=in_channels, out_channels=in_channels, kernel_size=1, stride=1)\n",
    "\n",
    "    \n",
    "    f = cnn_f(input_img) # B x C x H x W\n",
    "    g = cnn_g(input_img) # B x C x H x W\n",
    "    h = cnn_h(input_img) # B x C x H x W\n",
    "    \n",
    "    f = f.view(batch_size, in_channels//k, -1) # B x C/k x N\n",
    "    g = g.view(batch_size, in_channels//k, -1) # B x C/k x N\n",
    "    h = h.view(batch_size, in_channels, -1) # B x C x N\n",
    "    \n",
    "    ft = f.permute(0, 2, 1) # B x N x C/k\n",
    "    \n",
    "    s = torch.bmm(ft, g) # B x N x N\n",
    "    \n",
    "    b = F.softmax(s, dim = -1) # B x N x N\n",
    "    \n",
    "    hb = torch.bmm(h, b) # B x C x N\n",
    "    \n",
    "#     hb_reshaped = hb.view(batch_size, in_channels, input_size, input_size) # B x C x H x W\n",
    "#     o = cnn_o(hb_reshaped) # B x C x H x W\n",
    "    \n",
    "    \n",
    "    \n",
    "    return hb"
   ]
  },
  {
   "cell_type": "code",
   "execution_count": 16,
   "metadata": {},
   "outputs": [],
   "source": [
    "sa1 = self_attention_module(input_img=input_img, in_channels=4, k=2, batch_size=1, input_size=5)\n",
    "sa2 = self_attention_module(input_img=input_img, in_channels=4, k=2, batch_size=1, input_size=5)\n",
    "sa3 = self_attention_module(input_img=input_img, in_channels=4, k=2, batch_size=1, input_size=5)"
   ]
  },
  {
   "cell_type": "code",
   "execution_count": 17,
   "metadata": {},
   "outputs": [
    {
     "name": "stdout",
     "output_type": "stream",
     "text": [
      "torch.Size([1, 4, 25])\n"
     ]
    }
   ],
   "source": [
    "print(sa1.shape)"
   ]
  },
  {
   "cell_type": "code",
   "execution_count": 28,
   "metadata": {},
   "outputs": [
    {
     "data": {
      "text/plain": [
       "torch.Size([1, 4, 75])"
      ]
     },
     "execution_count": 28,
     "metadata": {},
     "output_type": "execute_result"
    }
   ],
   "source": [
    "multi_head_concat = torch.cat([sa1, sa2, sa3], dim = -1)\n",
    "multi_head_concat.shape"
   ]
  },
  {
   "cell_type": "code",
   "execution_count": 29,
   "metadata": {},
   "outputs": [
    {
     "data": {
      "text/plain": [
       "torch.Size([1, 75, 25])"
      ]
     },
     "execution_count": 29,
     "metadata": {},
     "output_type": "execute_result"
    }
   ],
   "source": [
    "w0 = nn.Parameter(torch.zeros(1, 75, 25))\n",
    "w0.shape"
   ]
  },
  {
   "cell_type": "code",
   "execution_count": 30,
   "metadata": {},
   "outputs": [
    {
     "data": {
      "text/plain": [
       "torch.Size([1, 4, 25])"
      ]
     },
     "execution_count": 30,
     "metadata": {},
     "output_type": "execute_result"
    }
   ],
   "source": [
    "agg_op = torch.bmm(multi_head_concat, w0)\n",
    "agg_op.shape"
   ]
  },
  {
   "cell_type": "code",
   "execution_count": null,
   "metadata": {},
   "outputs": [],
   "source": []
  }
 ],
 "metadata": {
  "kernelspec": {
   "display_name": "Python 3",
   "language": "python",
   "name": "python3"
  },
  "language_info": {
   "codemirror_mode": {
    "name": "ipython",
    "version": 3
   },
   "file_extension": ".py",
   "mimetype": "text/x-python",
   "name": "python",
   "nbconvert_exporter": "python",
   "pygments_lexer": "ipython3",
   "version": "3.6.10"
  }
 },
 "nbformat": 4,
 "nbformat_minor": 4
}
